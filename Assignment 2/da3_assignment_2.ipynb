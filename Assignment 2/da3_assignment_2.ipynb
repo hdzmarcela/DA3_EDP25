{
 "cells": [
  {
   "cell_type": "markdown",
   "metadata": {},
   "source": []
  },
  {
   "cell_type": "code",
   "execution_count": 33,
   "metadata": {},
   "outputs": [],
   "source": [
    "# Import necessary libraries\n",
    "import pandas as pd\n",
    "import numpy as np\n",
    "import requests\n",
    "import os\n",
    "import seaborn as sns\n",
    "import matplotlib.pyplot as plt\n",
    "import time\n",
    "from sklearn.model_selection import train_test_split\n",
    "from sklearn.linear_model import LinearRegression, Lasso, RidgeCV, LassoCV\n",
    "from sklearn.ensemble import RandomForestRegressor, GradientBoostingRegressor\n",
    "import xgboost as xgb\n",
    "from xgboost import XGBRegressor\n",
    "from sklearn.preprocessing import StandardScaler, OneHotEncoder\n",
    "from sklearn.compose import ColumnTransformer\n",
    "from sklearn.pipeline import Pipeline, make_pipeline\n",
    "from sklearn.impute import SimpleImputer\n",
    "from sklearn.metrics import mean_squared_error, r2_score\n",
    "import ast"
   ]
  },
  {
   "cell_type": "markdown",
   "metadata": {},
   "source": [
    "# **House Price Prediction for Airbnb Listings**\n",
    "\n",
    "## **Introduction**\n",
    "This project aims to build a predictive model for Airbnb listing prices. The objective is to use historical Airbnb data \n",
    "from different quarters and cities to develop a model that accurately estimates listing prices. \n",
    "\n",
    "The steps involved in this project include:\n",
    "- **Data Preprocessing**: Cleaning and transforming the dataset to extract meaningful features.\n",
    "- **Feature Engineering**: Selecting relevant variables and handling categorical and numerical features.\n",
    "- **Model Building**: Training multiple predictive models (OLS, LASSO, Random Forest, Gradient Boosting, and XGBoost).\n",
    "- **Model Evaluation**: Comparing model performance based on RMSE, R², and computation time.\n",
    "- **Feature Importance Analysis**: Identifying the most influential variables affecting price predictions.\n",
    "- **Validation on New Data**: Testing model performance on a later dataset and a different city.\n",
    "\n"
   ]
  },
  {
   "cell_type": "code",
   "execution_count": 2,
   "metadata": {},
   "outputs": [],
   "source": [
    "# Correct raw file URLs\n",
    "data_url_istanbul_q1 = \"https://raw.githubusercontent.com/hdzmarcela/DA3_EDP25/main/Assignment%202/Data/istanbul-q1.csv\"\n",
    "data_url_istanbul_q3 = \"https://raw.githubusercontent.com/hdzmarcela/DA3_EDP25/main/Assignment%202/Data/istanbul-q3.csv\"\n",
    "data_url_athens = \"https://raw.githubusercontent.com/hdzmarcela/DA3_EDP25/main/Assignment%202/Data/athens.csv\"\n",
    "\n",
    "istanbul_q1 = pd.read_csv(data_url_istanbul_q1)\n",
    "istanbul_q3 = pd.read_csv(data_url_istanbul_q3)\n",
    "athens = pd.read_csv(data_url_athens)\n",
    "\n",
    "df_list = [istanbul_q1, istanbul_q3, athens]\n"
   ]
  },
  {
   "cell_type": "markdown",
   "metadata": {},
   "source": []
  },
  {
   "cell_type": "code",
   "execution_count": 3,
   "metadata": {},
   "outputs": [
    {
     "name": "stdout",
     "output_type": "stream",
     "text": [
      "Istanbul Q1 size: (34446, 18)\n",
      "Istanbul Q3 size: (29101, 18)\n",
      "Athens size: (14642, 75)\n"
     ]
    }
   ],
   "source": [
    "print(f\"Istanbul Q1 size: {istanbul_q1.shape}\")\n",
    "print(f\"Istanbul Q3 size: {istanbul_q3.shape}\")\n",
    "print(f\"Athens size: {athens.shape}\")"
   ]
  },
  {
   "cell_type": "markdown",
   "metadata": {},
   "source": []
  },
  {
   "cell_type": "code",
   "execution_count": 2,
   "metadata": {},
   "outputs": [],
   "source": [
    "istanbul_df = pd.read_csv('/Users/amh/Downloads/istanbul_1.csv')"
   ]
  },
  {
   "cell_type": "markdown",
   "metadata": {},
   "source": [
    "## **Data Preprocessing and Feature Engineering**\n",
    "\n",
    "Before training our predictive models, we perform the following preprocessing steps:\n",
    "\n",
    "1. **Handling Missing Values**: Some attributes such as amenities and reviews may contain missing data. We use appropriate imputation techniques.\n",
    "2. **Date Conversion**: If applicable, date fields are converted to datetime format to extract meaningful time-based features.\n",
    "3. **Feature Selection**:\n",
    "   - **Numerical Features**: Price, number of bedrooms, number of reviews, etc.\n",
    "   - **Categorical Features**: Neighborhood, property type, room type, etc.\n",
    "   - **Amenities**: Extracting presence of popular amenities (e.g., WiFi, kitchen, pool).\n",
    "4. **Encoding**:\n",
    "   - **One-hot encoding** is applied to categorical features.\n",
    "   - **Standardization** is used for numerical variables to improve model convergence.\n"
   ]
  },
  {
   "cell_type": "code",
   "execution_count": 3,
   "metadata": {},
   "outputs": [
    {
     "name": "stdout",
     "output_type": "stream",
     "text": [
      "['[\"Freezer\", \"Luggage dropoff allowed\", \"Bread maker\", \"Mosquito net\", \"Baking sheet\", \"Dishes and silverware\", \"Cooking basics\", \"Paid parking lot off premises\", \"Game console: PS4\", \"Refrigerator\", \"Air conditioning\", \"Bathtub\", \"Extra pillows and blankets\", \"Exercise equipment: free weights\", \"Dedicated workspace\", \"Oven\", \"Pocket wifi\", \"Wine glasses\", \"Wifi\", \"Outdoor playground\", \"Coffee maker: espresso machine, pour-over coffee\", \"Private entrance\", \"Bed linens\", \"HDTV with standard cable, Disney+, Netflix, premium cable\", \"Children\\'s playroom\", \"Dishwasher\", \"Dryer\", \"Backyard\", \"Free street parking\", \"Drying rack for clothing\", \"Blender\", \"Heating\", \"Hangers\", \"Hot tub\", \"Hair dryer\", \"Building staff\", \"Ethernet connection\", \"Sound system\", \"Books and reading material\", \"Toaster\", \"Arcade games\", \"Kitchen\", \"Public or shared beach access\", \"Free parking on premises\", \"Microwave\", \"Hot water\", \"Self check-in\", \"Washer\", \"Iron\", \"Hot water kettle\", \"Dining table\", \"Room-darkening shades\", \"Shampoo\", \"Essentials\", \"Safe\", \"Coffee\", \"Cleaning available during stay\", \"Gas stove\", \"Long term stays allowed\", \"Clothing storage: closet\", \"Barbecue utensils\", \"Cleaning products\", \"Children\\\\u2019s books and toys for ages 5-10 years old\"]'\n",
      " '[\"Wifi\", \"First aid kit\", \"Free parking on premises\", \"Kitchen\", \"Heating\", \"Washer\", \"Dryer\", \"TV with standard cable\", \"Shampoo\", \"Essentials\", \"Fire extinguisher\"]'\n",
      " '[\"TV\", \"Freezer\", \"Luggage dropoff allowed\", \"Mosquito net\", \"Dishes and silverware\", \"Valley view\", \"Smoke alarm\", \"Cooking basics\", \"Refrigerator\", \"Extra pillows and blankets\", \"Oven\", \"Wine glasses\", \"Wifi\", \"City skyline view\", \"Bed linens\", \"Free street parking\", \"Dishwasher\", \"Carbon monoxide alarm\", \"Drying rack for clothing\", \"Shared patio or balcony\", \"Heating\", \"Sea view\", \"Hangers\", \"Hair dryer\", \"Central air conditioning\", \"First aid kit\", \"Toaster\", \"Clothing storage: wardrobe\", \"Kitchen\", \"Microwave\", \"Hot water\", \"Washer\", \"Iron\", \"Hot water kettle\", \"Dining table\", \"Room-darkening shades\", \"Essentials\", \"Coffee maker: french press\", \"Private backyard \\\\u2013 Fully fenced\", \"Free dryer \\\\u2013 In unit\", \"Sound system with Bluetooth and aux\", \"Long term stays allowed\", \"Fire extinguisher\"]'\n",
      " ...\n",
      " '[\"TV\", \"Wifi\", \"First aid kit\", \"Kitchen\", \"BBQ grill\", \"Washer\", \"Fire extinguisher\", \"Security cameras on property\", \"Indoor fireplace\"]'\n",
      " '[\"TV\", \"Freezer\", \"Body soap\", \"Baking sheet\", \"Dishes and silverware\", \"Smoke alarm\", \"Cooking basics\", \"EV charger\", \"Refrigerator\", \"Stove\", \"Air conditioning\", \"Bathtub\", \"Extra pillows and blankets\", \"Dedicated workspace\", \"Smart lock\", \"Bidet\", \"Oven\", \"Pocket wifi\", \"Wine glasses\", \"Wifi\", \"Piano\", \"Free street parking\", \"Dishwasher\", \"Carbon monoxide alarm\", \"Drying rack for clothing\", \"Heating\", \"Shower gel\", \"Hangers\", \"Hair dryer\", \"Hot tub\", \"Sauna\", \"First aid kit\", \"Free parking on premises\", \"Kitchen\", \"Self check-in\", \"Clothing storage\", \"Washer\", \"Iron\", \"Pool\", \"Hot water kettle\", \"Dining table\", \"Shampoo\", \"Coffee\", \"Fire pit\", \"Cleaning available during stay\", \"Trash compactor\", \"Elevator\", \"Long term stays allowed\", \"Blender\", \"Cleaning products\", \"Fire extinguisher\"]'\n",
      " '[\"Freezer\", \"Dishes and silverware\", \"Cooking basics\", \"Refrigerator\", \"Air conditioning\", \"Oven\", \"Wifi\", \"Bed linens\", \"Free street parking\", \"Dishwasher\", \"Patio or balcony\", \"Heating\", \"Hangers\", \"Hair dryer\", \"Kitchen\", \"Hot water\", \"Clothing storage\", \"Washer\", \"Iron\", \"TV with standard cable\", \"Hot water kettle\", \"Dining table\", \"Shampoo\", \"Essentials\", \"Safe\", \"Conditioner\", \"Coffee maker\"]']\n"
     ]
    }
   ],
   "source": [
    "print(istanbul_df['amenities'].unique())"
   ]
  },
  {
   "cell_type": "code",
   "execution_count": 4,
   "metadata": {},
   "outputs": [],
   "source": [
    "# Define amenity categories\n",
    "amenity_categories = {\n",
    "    \"comfort\": [\"air conditioning\", \"heating\", \"extra pillows\", \"room-darkening shades\", \"hair dryer\", \"hot water\", \"mosquito net\"],\n",
    "    \"kitchen\": [\"kitchen\", \"stove\", \"oven\", \"microwave\", \"dishwasher\", \"refrigerator\", \"freezer\", \"coffee maker\", \"cooking basics\",\n",
    "                \"bread maker\", \"baking sheet\", \"toaster\", \"blender\", \"dishes and silverware\", \"barbecue utensils\", \"gas stove\", \"dining table\"],\n",
    "    \"laundry\": [\"washer\", \"dryer\", \"drying rack\", \"ironing\", \"clothing storage\", \"laundry\"],\n",
    "    \"entertainment\": [\"tv\", \"hdtv\", \"netflix\", \"cable\", \"sound system\", \"books\", \"reading material\", \"game console\", \"arcade\", \"piano\"],\n",
    "    \"family\": [\"children\", \"crib\", \"high chair\", \"playroom\", \"books and toys\", \"bathtub\"],\n",
    "    \"outdoors\": [\"terrace\", \"balcony\", \"backyard\", \"beach access\", \"patio\", \"barbecue\", \"fire pit\", \"garden\"],\n",
    "    \"wellness\": [\"hot tub\", \"sauna\", \"gym\", \"exercise equipment\"],\n",
    "    \"work\": [\"dedicated workspace\", \"desk\", \"ethernet\", \"monitor\", \"work\"],\n",
    "    \"parking\": [\"free parking\", \"paid parking\", \"street parking\", \"parking lot\", \"ev charger\"],\n",
    "    \"safety\": [\"smoke alarm\", \"carbon monoxide alarm\", \"first aid kit\", \"fire extinguisher\", \"safe\", \"security cameras\"],\n",
    "    \"luxury\": [\"fireplace\", \"wine glasses\", \"espresso\", \"premium cable\", \"smart lock\", \"bidet\", \"pool\"],\n",
    "    \"cleaning\": [\"cleaning\", \"cleaning products\", \"shampoo\", \"conditioner\", \"essentials\"],\n",
    "    \"connectivity\": [\"wifi\", \"pocket wifi\", \"internet\"]\n",
    "}\n",
    "\n",
    "# Classify grouped amenities into binary columns\n",
    "def classify_amenities_column(df):\n",
    "    for cat in amenity_categories:\n",
    "        df[f\"amenity_{cat}\"] = 0\n",
    "    for idx, row in df.iterrows():\n",
    "        try:\n",
    "            amenities = ast.literal_eval(row['amenities'].lower())\n",
    "        except:\n",
    "            continue\n",
    "        for cat, keywords in amenity_categories.items():\n",
    "            if any(any(k in a for k in keywords) for a in amenities):\n",
    "                df.at[idx, f\"amenity_{cat}\"] = 1\n",
    "    return df\n",
    "\n",
    "# Classify high-level description features\n",
    "def categorize_description_features(df):\n",
    "    desc = df['description'].fillna(\"\").str.lower()\n",
    "    df['view_type'] = desc.apply(lambda t: \"sea_view\" if \"sea view\" in t or \"bosphorus\" in t else\n",
    "                                              \"city_view\" if \"city view\" in t or \"panoramic\" in t else\n",
    "                                              \"garden_view\" if \"garden\" in t or \"greenery\" in t else \"no_view\")\n",
    "    df['location_type'] = desc.apply(lambda t: \"near_metro\" if any(x in t for x in [\"metro\", \"subway\", \"station\"]) else\n",
    "                                                  \"near_taksim\" if any(x in t for x in [\"taksim\", \"kabatas\"]) else\n",
    "                                                  \"quiet_area\" if any(x in t for x in [\"quiet\", \"peaceful\", \"no traffic\"]) else \"unspecified_location\")\n",
    "    df['amenity_type'] = desc.apply(lambda t: \"terrace\" if \"terrace\" in t else\n",
    "                                               \"balcony\" if \"balcony\" in t else\n",
    "                                               \"kitchen\" if any(x in t for x in [\"kitchen\", \"stove\", \"oven\"]) else \"standard\")\n",
    "    df['suitability'] = desc.apply(lambda t: \"work_friendly\" if any(x in t for x in [\"remote work\", \"working from home\", \"staycation\"]) else\n",
    "                                              \"family\" if any(x in t for x in [\"family\", \"group\", \"kids\"]) else\n",
    "                                              \"female_only\" if any(x in t for x in [\"female only\", \"female guests\"]) else \"generic\")\n",
    "    df['attraction_tag'] = desc.apply(lambda t: \"seaside\" if any(x in t for x in [\"seaside\", \"shore\", \"coast\"]) else\n",
    "                                                 \"food_drink\" if any(x in t for x in [\"restaurant\", \"bar\", \"cafe\"]) else\n",
    "                                                 \"historic\" if any(x in t for x in [\"historical\", \"old town\"]) else \"none\")\n",
    "    return df\n",
    "\n",
    "# Reduce cardinality of description features\n",
    "def reduce_cardinality(df, col, top_n=3):\n",
    "    top = df[col].value_counts().nlargest(top_n).index\n",
    "    df[f'{col}_reduced'] = df[col].where(df[col].isin(top), 'other')\n",
    "    return df\n",
    "\n",
    "# Apply everything\n",
    "desc_cats = ['view_type', 'location_type', 'amenity_type', 'suitability', 'attraction_tag']\n",
    "istanbul_df = classify_amenities_column(istanbul_df)\n",
    "istanbul_df = categorize_description_features(istanbul_df)\n",
    "for col in desc_cats:\n",
    "    istanbul_df = reduce_cardinality(istanbul_df, col, top_n=4)\n"
   ]
  },
  {
   "cell_type": "code",
   "execution_count": 5,
   "metadata": {},
   "outputs": [],
   "source": [
    "columns_to_drop = [\n",
    "    # IDs & URLs\n",
    "    'id', 'listing_url', 'scrape_id', 'last_scraped', 'source', 'picture_url',\n",
    "    # Host info\n",
    "    'host_id', 'host_url', 'host_name', 'host_since', 'host_location', 'host_about',\n",
    "    'host_thumbnail_url', 'host_picture_url', 'host_verifications',\n",
    "    'host_is_superhost', 'host_response_time', 'host_response_rate', 'host_acceptance_rate',\n",
    "    'host_neighbourhood', 'host_listings_count', 'host_total_listings_count',\n",
    "    'host_has_profile_pic', 'host_identity_verified',\n",
    "    # Location text\n",
    "    'neighbourhood', 'neighbourhood_overview', 'neighbourhood_group_cleansed',\n",
    "    # Redundant\n",
    "    'description', 'name', 'bathrooms_text', 'amenities',\n",
    "    # Calendar & review timing\n",
    "    'calendar_updated', 'calendar_last_scraped', 'first_review', 'last_review',\n",
    "    'minimum_minimum_nights', 'maximum_minimum_nights', 'minimum_maximum_nights',\n",
    "    'maximum_maximum_nights', 'minimum_nights_avg_ntm', 'maximum_nights_avg_ntm',\n",
    "    # Counts\n",
    "    'calculated_host_listings_count', 'calculated_host_listings_count_entire_homes',\n",
    "    'calculated_host_listings_count_private_rooms', 'calculated_host_listings_count_shared_rooms',\n",
    "    'number_of_reviews_ltm', 'number_of_reviews_l30d', 'reviews_per_month',\n",
    "    # Redundant review score breakdowns (you can keep 1–2)\n",
    "    'review_scores_accuracy', 'review_scores_cleanliness', 'review_scores_checkin',\n",
    "    'review_scores_communication', 'review_scores_location', 'review_scores_value',\n",
    "    # Raw categorical versions of description variables\n",
    "    'view_type', 'location_type', 'amenity_type', 'suitability', 'attraction_tag',\n",
    "    # Other\n",
    "    'license', 'instant_bookable'\n",
    "    # amenity categories\n",
    "     'amenity_comfort', 'amenity_kitchen', 'amenity_laundry', 'amenity_entertainment',\n",
    "    'amenity_family', 'amenity_outdoors', 'amenity_wellness', 'amenity_work',   \n",
    "    'amenity_parking', 'amenity_safety', 'amenity_luxury', 'amenity_cleaning', 'amenity_comfort',\n",
    "    'amenity_connectivity'\n",
    "    # neighbourhoods\n",
    "        'neighborhood_overview', 'neighbourhood_cleansed', 'property_type', 'neighborhood_overview',\n",
    "    #Availability\n",
    "    'has_availability', 'availability_60', 'availability_90'\n",
    "]\n",
    "istanbul_df.drop(columns=columns_to_drop, inplace=True, errors='ignore')"
   ]
  },
  {
   "cell_type": "code",
   "execution_count": 6,
   "metadata": {},
   "outputs": [],
   "source": [
    "from sklearn.cluster import KMeans\n",
    "\n",
    "# Create location cluster\n",
    "def add_location_cluster(df, n_clusters=10):\n",
    "    coords = df[['latitude', 'longitude']].dropna()\n",
    "    kmeans = KMeans(n_clusters=n_clusters, random_state=42, n_init=10)\n",
    "    df['location_cluster'] = kmeans.fit_predict(coords)\n",
    "    return df\n",
    "istanbul_df = add_location_cluster(istanbul_df)\n",
    "# Drop original latitude and longitude columns\n",
    "istanbul_df.drop(columns=['latitude', 'longitude'], inplace=True, errors='ignore')\n"
   ]
  },
  {
   "cell_type": "code",
   "execution_count": 27,
   "metadata": {},
   "outputs": [
    {
     "name": "stdout",
     "output_type": "stream",
     "text": [
      "✅ Final shape: (19477, 38) (19477,)\n",
      "Any NaNs? False False\n"
     ]
    }
   ],
   "source": [
    "# Define categorical columns\n",
    "categorical_cols = ['room_type', 'view_type_reduced', 'location_type_reduced',\n",
    "                    'amenity_type_reduced', 'suitability_reduced', 'attraction_tag_reduced']\n",
    "\n",
    "# Define numerical columns (exclude price and categoricals)\n",
    "drop_cols = ['price']\n",
    "numerical_cols = [col for col in istanbul_df.columns if col not in categorical_cols + drop_cols]\n",
    "\n",
    "# Clean target variable\n",
    "istanbul_df['price'] = istanbul_df['price'].replace(r'[\\$,]', '', regex=True).astype(float)\n",
    "istanbul_df = istanbul_df.dropna(subset=['price'])\n",
    "\n",
    "# Drop any rows with NaNs in selected features\n",
    "istanbul_df = istanbul_df.dropna(subset=categorical_cols + numerical_cols)\n",
    "\n",
    "# Define X and y\n",
    "X_raw = istanbul_df[categorical_cols + numerical_cols]\n",
    "y = istanbul_df['price'].reset_index(drop=True)\n",
    "\n",
    "# Set up encoder\n",
    "preprocessor = ColumnTransformer(\n",
    "    transformers=[('cat', OneHotEncoder(handle_unknown='ignore', sparse_output=False), categorical_cols)],\n",
    "    remainder='passthrough'\n",
    ")\n",
    "\n",
    "# Apply transformation\n",
    "X_encoded = preprocessor.fit_transform(X_raw)\n",
    "\n",
    "# Get correct column names\n",
    "encoded_col_names = preprocessor.named_transformers_['cat'].get_feature_names_out(categorical_cols)\n",
    "final_col_names = list(encoded_col_names) + numerical_cols\n",
    "\n",
    "# Create final DataFrame\n",
    "istanbul_encoded_df= pd.DataFrame(X_encoded, columns=final_col_names)\n",
    "\n",
    "# Ensure numeric and aligned\n",
    "istanbul_encoded_df = istanbul_encoded_df.apply(pd.to_numeric, errors='coerce')\n",
    "istanbul_encoded_df = istanbul_encoded_df.fillna(0)\n",
    "istanbul_encoded_df = istanbul_encoded_df.reset_index(drop=True)\n",
    "y = y.loc[istanbul_encoded_df.index]\n",
    "\n",
    "# Final check\n",
    "print(\"✅ Final shape:\", istanbul_encoded_df.shape, y.shape)\n",
    "print(\"Any NaNs?\", istanbul_encoded_df.isna().any().any(), y.isna().any())"
   ]
  },
  {
   "cell_type": "code",
   "execution_count": 19,
   "metadata": {},
   "outputs": [
    {
     "name": "stdout",
     "output_type": "stream",
     "text": [
      "object    38\n",
      "Name: count, dtype: int64\n"
     ]
    }
   ],
   "source": [
    "print(istanbul_encoded_df.dtypes.value_counts())\n"
   ]
  },
  {
   "cell_type": "code",
   "execution_count": 14,
   "metadata": {},
   "outputs": [
    {
     "data": {
      "text/plain": [
       "Index(['neighborhood_overview', 'neighbourhood_cleansed', 'property_type',\n",
       "       'room_type', 'accommodates', 'bathrooms', 'bedrooms', 'beds', 'price',\n",
       "       'minimum_nights', 'maximum_nights', 'has_availability',\n",
       "       'availability_30', 'availability_60', 'availability_90',\n",
       "       'availability_365', 'number_of_reviews', 'review_scores_rating',\n",
       "       'view_type_reduced', 'location_type_reduced', 'amenity_type_reduced',\n",
       "       'suitability_reduced', 'attraction_tag_reduced', 'location_cluster'],\n",
       "      dtype='object')"
      ]
     },
     "execution_count": 14,
     "metadata": {},
     "output_type": "execute_result"
    }
   ],
   "source": [
    "istanbul_df.columns"
   ]
  },
  {
   "cell_type": "code",
   "execution_count": 6,
   "metadata": {},
   "outputs": [],
   "source": [
    "# Apply preprocessing\n",
    "df_istanbul_q1 = preprocess_data(df_list[0])\n",
    "df_istanbul_q3 = preprocess_data(df_list[1])\n",
    "df_athens = preprocess_data(df_list[2])"
   ]
  },
  {
   "cell_type": "code",
   "execution_count": 31,
   "metadata": {},
   "outputs": [],
   "source": [
    "# 1. Split data\n",
    "X_train, X_test, y_train, y_test = train_test_split(istanbul_encoded_df, y, test_size=0.2, random_state=42)\n",
    "\n",
    "# 2. Model evaluation helper\n",
    "def evaluate_model(name, model, X_train, y_train, X_test, y_test, results_dict):\n",
    "    start = time.time()\n",
    "    model.fit(X_train, y_train)\n",
    "    preds = model.predict(X_test)\n",
    "    rmse = mean_squared_error(y_test, preds) ** 0.5  # <-- Manual RMSE\n",
    "    results_dict[name] = {\"RMSE\": round(rmse, 2), \"Time (s)\": round(time.time() - start, 2)}\n",
    "\n"
   ]
  },
  {
   "cell_type": "markdown",
   "metadata": {},
   "source": [
    "## **Predictive Modeling**\n",
    "\n",
    "We train five different models to compare performance:\n",
    "1. **Ordinary Least Squares (OLS)**: A simple linear regression model.\n",
    "2. **LASSO Regression**: A regularized linear model that prevents overfitting.\n",
    "3. **Random Forest**: A tree-based ensemble model that captures non-linear relationships.\n",
    "4. **Gradient Boosting (XGBoost)**: A powerful boosting algorithm that iteratively corrects errors.\n",
    "5. **Another Boosting Model (LightGBM or CatBoost)**: An alternative boosting approach for comparison.\n",
    "\n",
    "The models are trained on the preprocessed dataset, and we evaluate their performance using RMSE, R², and computational efficiency.\n"
   ]
  },
  {
   "cell_type": "code",
   "execution_count": 35,
   "metadata": {},
   "outputs": [],
   "source": [
    "# 3. Initialize results container\n",
    "results = {}\n",
    "# 4. Train and evaluate all models\n",
    "evaluate_model(\"OLS\", LinearRegression(), X_train, y_train, X_test, y_test, results)\n",
    "\n",
    "evaluate_model(\"LASSO\", make_pipeline(StandardScaler(), LassoCV(cv=5, random_state=42)),\n",
    "               X_train, y_train, X_test, y_test, results)\n",
    "\n",
    "evaluate_model(\"Random Forest\", RandomForestRegressor(n_estimators=100, random_state=42),\n",
    "               X_train, y_train, X_test, y_test, results)\n",
    "\n",
    "evaluate_model(\"XGBoost\", xgb.XGBRegressor(n_estimators=100, random_state=42, verbosity=0),\n",
    "               X_train, y_train, X_test, y_test, results)\n",
    "\n",
    "evaluate_model(\"Ridge\", make_pipeline(StandardScaler(), RidgeCV(cv=5)),\n",
    "               X_train, y_train, X_test, y_test, results)"
   ]
  },
  {
   "cell_type": "markdown",
   "metadata": {},
   "source": [
    "## **Model Evaluation**\n",
    "\n",
    "To compare model performance, we use the following metrics:\n",
    "- **Root Mean Squared Error (RMSE)**: Measures the average prediction error in the same unit as the target variable.\n",
    "- **R² Score**: Indicates how much variance in the target variable is explained by the model.\n",
    "- **Computation Time**: Helps assess the efficiency of each model.\n",
    "\n",
    "A summary table is generated to highlight the strengths and weaknesses of each approach.\n"
   ]
  },
  {
   "cell_type": "code",
   "execution_count": 36,
   "metadata": {},
   "outputs": [
    {
     "name": "stdout",
     "output_type": "stream",
     "text": [
      "           Model      RMSE  Time (s)\n",
      "0          LASSO  38387.01      0.10\n",
      "1          Ridge  38406.42      0.09\n",
      "2            OLS  38406.47      0.09\n",
      "3  Random Forest  41348.01     16.01\n",
      "4        XGBoost  57411.82      0.23\n"
     ]
    }
   ],
   "source": [
    "# 5. Show comparison table\n",
    "results_df = pd.DataFrame(results).T.sort_values(\"RMSE\").reset_index().rename(columns={\"index\": \"Model\"})\n",
    "print(results_df)"
   ]
  },
  {
   "cell_type": "code",
   "execution_count": 11,
   "metadata": {},
   "outputs": [
    {
     "name": "stdout",
     "output_type": "stream",
     "text": [
      "                          RMSE        R2  Time (seconds)\n",
      "OLS                9269.794662 -0.055385            0.13\n",
      "LASSO              9269.285453 -0.055269            1.22\n",
      "RandomForest      13806.130247 -1.341071           20.58\n",
      "GradientBoosting  16178.941117 -2.214925            4.32\n",
      "XGBoost           10598.832487 -0.379707            0.53\n"
     ]
    }
   ],
   "source": [
    "# Compare models\n",
    "results_df = pd.DataFrame(results).T\n",
    "print(results_df)"
   ]
  },
  {
   "cell_type": "markdown",
   "metadata": {},
   "source": [
    "## **Feature Importance Analysis**\n",
    "\n",
    "To interpret our models, we analyze feature importance for:\n",
    "- **Random Forest**: Measures how much each feature contributes to reducing uncertainty in predictions.\n",
    "- **Gradient Boosting**: Identifies which features have the most impact on price predictions.\n",
    "\n",
    "We compare the top 10 most important features across these models.\n"
   ]
  },
  {
   "cell_type": "code",
   "execution_count": 12,
   "metadata": {},
   "outputs": [
    {
     "data": {
      "image/png": "[encoded data removed]",
      "text/plain": [
       "<Figure size 1000x600 with 1 Axes>"
      ]
     },
     "metadata": {},
     "output_type": "display_data"
    }
   ],
   "source": [
    "# Feature importance comparison\n",
    "def compare_feature_importances(models, X):\n",
    "    encoded_cat_features = models[\"RandomForest\"].named_steps[\"preprocessor\"].named_transformers_[\"cat\"].named_steps[\"encoder\"].get_feature_names_out(categorical_features)\n",
    "    all_feature_names = np.concatenate([numeric_features, encoded_cat_features])\n",
    "\n",
    "    rf_importance = models[\"RandomForest\"].named_steps['model'].feature_importances_\n",
    "    gb_importance = models[\"GradientBoosting\"].named_steps['model'].feature_importances_\n",
    "\n",
    "    feature_importances = pd.DataFrame({\n",
    "        'Feature': all_feature_names,\n",
    "        'RandomForest': rf_importance,\n",
    "        'GradientBoosting': gb_importance\n",
    "    })\n",
    "\n",
    "    feature_importances.set_index(\"Feature\", inplace=True)\n",
    "    feature_importances.nlargest(10, columns=['RandomForest', 'GradientBoosting']).plot(kind='barh', figsize=(10,6))\n",
    "    plt.title(\"Top 10 Feature Importances (RandomForest vs GradientBoosting)\")\n",
    "    plt.show()\n",
    "\n",
    "compare_feature_importances(models, X_train)"
   ]
  },
  {
   "cell_type": "markdown",
   "metadata": {},
   "source": [
    "## **Validation on New Data**\n",
    "\n",
    "To ensure our models generalize well, we evaluate them on:\n",
    "1. **Later Quarter Data** (Istanbul Q3) – Testing time-based robustness.\n",
    "2. **Another City** (Athens) – Assessing how well models perform in a different market.\n",
    "\n",
    "Key observations:\n",
    "- A significant drop in performance may indicate overfitting to the training dataset.\n",
    "- Different feature importance rankings across datasets may suggest that market dynamics vary across locations.\n",
    "\n",
    "The results help determine the reliability of our models in real-world Airbnb pricing predictions.\n"
   ]
  },
  {
   "cell_type": "code",
   "execution_count": 13,
   "metadata": {},
   "outputs": [
    {
     "name": "stdout",
     "output_type": "stream",
     "text": [
      "\n",
      "📊 Results for Istanbul Q3:\n",
      "                          RMSE        R2\n",
      "OLS               27340.423663 -0.008605\n",
      "LASSO             27340.278803 -0.008594\n",
      "RandomForest      33086.481663 -0.477106\n",
      "GradientBoosting  29221.230547 -0.152146\n",
      "XGBoost           45685.688495 -1.816247\n",
      "\n",
      "📊 Results for Athens:\n",
      "                         RMSE          R2\n",
      "OLS               2801.258032  -88.039133\n",
      "LASSO             2452.513371  -67.249183\n",
      "RandomForest      4488.297768 -227.579887\n",
      "GradientBoosting  3427.787601 -132.322208\n",
      "XGBoost           4788.831749 -259.215911\n"
     ]
    }
   ],
   "source": [
    "# Preprocess validation datasets\n",
    "df_istanbul_q3 = preprocess_data(istanbul_q3)  # Later quarter\n",
    "df_athens = preprocess_data(athens)            # Another city\n",
    "\n",
    "# Apply trained models to new datasets\n",
    "for df, name in zip([df_istanbul_q3, df_athens], [\"Istanbul Q3\", \"Athens\"]):\n",
    "    X_new = df.drop(columns=[\"price\"])\n",
    "    y_new = df[\"price\"].fillna(df[\"price\"].median())  # Ensure no missing values\n",
    "\n",
    "    results_new = {}\n",
    "    for model_name, model in models.items():\n",
    "        y_pred_new = model.predict(X_new)\n",
    "        results_new[model_name] = {\n",
    "            \"RMSE\": np.sqrt(mean_squared_error(y_new, y_pred_new)),\n",
    "            \"R2\": r2_score(y_new, y_pred_new)\n",
    "        }\n",
    "\n",
    "    print(f\"\\n📊 Results for {name}:\")\n",
    "    print(pd.DataFrame(results_new).T)\n"
   ]
  },
  {
   "cell_type": "code",
   "execution_count": null,
   "metadata": {},
   "outputs": [],
   "source": []
  }
 ],
 "metadata": {
  "kernelspec": {
   "display_name": "my_env",
   "language": "python",
   "name": "python3"
  },
  "language_info": {
   "codemirror_mode": {
    "name": "ipython",
    "version": 3
   },
   "file_extension": ".py",
   "mimetype": "text/x-python",
   "name": "python",
   "nbconvert_exporter": "python",
   "pygments_lexer": "ipython3",
   "version": "3.13.2"
  }
 },
 "nbformat": 4,
 "nbformat_minor": 2
}
