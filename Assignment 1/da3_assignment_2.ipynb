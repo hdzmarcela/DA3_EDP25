{
 "cells": [
  {
   "cell_type": "code",
   "execution_count": 1,
   "metadata": {},
   "outputs": [],
   "source": [
    "# Import necessary libraries\n",
    "import pandas as pd\n",
    "import numpy as np\n",
    "import requests\n",
    "import os\n",
    "import seaborn as sns\n",
    "import matplotlib.pyplot as plt\n",
    "import time\n",
    "from sklearn.model_selection import train_test_split\n",
    "from sklearn.linear_model import LinearRegression, Lasso\n",
    "from sklearn.ensemble import RandomForestRegressor, GradientBoostingRegressor\n",
    "from xgboost import XGBRegressor\n",
    "from sklearn.preprocessing import StandardScaler, OneHotEncoder\n",
    "from sklearn.compose import ColumnTransformer\n",
    "from sklearn.pipeline import Pipeline\n",
    "from sklearn.impute import SimpleImputer\n",
    "from sklearn.metrics import mean_squared_error, r2_score\n",
    "import ast"
   ]
  },
  {
   "cell_type": "code",
   "execution_count": 2,
   "metadata": {},
   "outputs": [
    {
     "data": {
      "text/plain": [
       "'# Load dataset from GitHub or OSF.io (Replace with your actual URL)\\ndata_url_istanbul_q1 = \"https://github.com/your_repo/istanbul-q1.csv\"\\ndata_url_istanbul_q3 = \"https://github.com/your_repo/istanbul-q3.csv\"\\ndata_url_athens = \"https://github.com/your_repo/athens.csv\"\\n\\nistanbul_q1 = pd.read_csv(data_url_istanbul_q1)\\nistanbul_q3 = pd.read_csv(data_url_istanbul_q3)\\nathens = pd.read_csv(data_url_athens)\\n\\ndf_list = [istanbul_q1, istanbul_q3, athens]\\n'"
      ]
     },
     "execution_count": 2,
     "metadata": {},
     "output_type": "execute_result"
    }
   ],
   "source": [
    "'''# Load dataset from GitHub or OSF.io (Replace with your actual URL)\n",
    "data_url_istanbul_q1 = \"https://github.com/your_repo/istanbul-q1.csv\"\n",
    "data_url_istanbul_q3 = \"https://github.com/your_repo/istanbul-q3.csv\"\n",
    "data_url_athens = \"https://github.com/your_repo/athens.csv\"\n",
    "\n",
    "istanbul_q1 = pd.read_csv(data_url_istanbul_q1)\n",
    "istanbul_q3 = pd.read_csv(data_url_istanbul_q3)\n",
    "athens = pd.read_csv(data_url_athens)\n",
    "\n",
    "df_list = [istanbul_q1, istanbul_q3, athens]\n",
    "'''"
   ]
  },
  {
   "cell_type": "code",
   "execution_count": 3,
   "metadata": {},
   "outputs": [],
   "source": [
    "# File paths\n",
    "cd = '/Users/amh/Documents/GIT/DA3_EDP25/Assignment 2/Data/'\n",
    "istanbul_q1 = pd.read_csv(cd + 'istanbul-q1.csv')\n",
    "istanbul_q3 = pd.read_csv(cd + 'istanbul-q3.csv')\n",
    "athens = pd.read_csv(cd +'athens.csv')\n",
    "\n",
    "df_list = [istanbul_q1, istanbul_q3, athens]"
   ]
  },
  {
   "cell_type": "code",
   "execution_count": 4,
   "metadata": {},
   "outputs": [
    {
     "name": "stdout",
     "output_type": "stream",
     "text": [
      "Istanbul Q1 size: (34446, 18)\n",
      "Istanbul Q3 size: (29101, 18)\n",
      "Athens size: (14642, 75)\n"
     ]
    }
   ],
   "source": [
    "print(f\"Istanbul Q1 size: {istanbul_q1.shape}\")\n",
    "print(f\"Istanbul Q3 size: {istanbul_q3.shape}\")\n",
    "print(f\"Athens size: {athens.shape}\")"
   ]
  },
  {
   "cell_type": "code",
   "execution_count": 20,
   "metadata": {},
   "outputs": [
    {
     "name": "stdout",
     "output_type": "stream",
     "text": [
      "['Entire home/apt' 'Private room' 'Hotel room' 'Shared room']\n",
      "['Besiktas' 'Sariyer' 'Sisli' 'Beyoglu' 'Sancaktepe' 'Beykoz' 'Kadikoy'\n",
      " 'Uskudar' 'Beylikduzu' 'Basaksehir' 'Fatih' 'Pendik' 'Bagcilar' 'Adalar'\n",
      " 'Kagithane' 'Maltepe' 'Gaziosmanpasa' 'Bahcelievler' 'Gungoren'\n",
      " 'Esenyurt' 'Bakirkoy' 'Kartal' 'Zeytinburnu' 'Eyup' 'Kucukcekmece'\n",
      " 'Atasehir' 'Umraniye' 'Tuzla' 'Sile' 'Buyukcekmece' 'Avcilar'\n",
      " 'Bayrampasa' 'Esenler' 'Arnavutkoy' 'Cekmekoy' 'Sultanbeyli' 'Catalca'\n",
      " 'Silivri' 'Sultangazi']\n"
     ]
    }
   ],
   "source": [
    "print(istanbul_q1['room_type'].unique())\n",
    "\n",
    "print(istanbul_q1['neighbourhood'].unique())\n"
   ]
  },
  {
   "cell_type": "code",
   "execution_count": 21,
   "metadata": {},
   "outputs": [],
   "source": [
    "def preprocess_data(df):\n",
    "    df = df.copy()\n",
    "    \n",
    "    # Define expected columns\n",
    "    selected_cols = [\"price\", \"minimum_nights\", \"number_of_reviews\", \"reviews_per_month\", \n",
    "                     \"calculated_host_listings_count\", \"availability_365\", \"number_of_reviews_ltm\", \n",
    "                     \"room_type\", \"neighbourhood\", \"last_review\"]\n",
    "    \n",
    "    # Check if 'amenities' exists before adding it\n",
    "    if 'amenities' in df.columns:\n",
    "        selected_cols.append(\"amenities\")\n",
    "\n",
    "    # Ensure only available columns are selected\n",
    "    df = df[[col for col in selected_cols if col in df.columns]]\n",
    "    \n",
    "    # Handle missing values\n",
    "    df[\"reviews_per_month\"] = df[\"reviews_per_month\"].fillna(0)\n",
    "    df[\"number_of_reviews_ltm\"] = df[\"number_of_reviews_ltm\"].fillna(0)\n",
    "    \n",
    "    # Handle last review date\n",
    "    if \"last_review\" in df.columns:\n",
    "        df[\"last_review\"] = pd.to_datetime(df[\"last_review\"], errors='coerce')\n",
    "        df[\"days_since_last_review\"] = (pd.to_datetime(\"today\") - df[\"last_review\"]).dt.days\n",
    "        df.drop(columns=[\"last_review\"], inplace=True)\n",
    "    \n",
    "    # Convert price to numeric\n",
    "    df[\"price\"] = df[\"price\"].replace({'\\\\$': '', ',': ''}, regex=True).astype(float)\n",
    "    \n",
    "    # Extract amenities if present\n",
    "    if \"amenities\" in df.columns:\n",
    "        import ast\n",
    "        df['amenities'] = df['amenities'].apply(lambda x: ast.literal_eval(x) if isinstance(x, str) else [])\n",
    "        important_amenities = ['Wifi', 'Air conditioning', 'Kitchen', 'Washer', 'Heating']\n",
    "        \n",
    "        for amenity in important_amenities:\n",
    "            df[f'has_{amenity.lower().replace(\" \", \"_\")}'] = df['amenities'].apply(lambda x: amenity in x)\n",
    "        \n",
    "        df.drop(columns=['amenities'], inplace=True)\n",
    "    \n",
    "    return df\n"
   ]
  },
  {
   "cell_type": "code",
   "execution_count": 6,
   "metadata": {},
   "outputs": [],
   "source": [
    "# Apply preprocessing\n",
    "df_istanbul_q1 = preprocess_data(df_list[0])\n",
    "df_istanbul_q3 = preprocess_data(df_list[1])\n",
    "df_athens = preprocess_data(df_list[2])"
   ]
  },
  {
   "cell_type": "code",
   "execution_count": 7,
   "metadata": {},
   "outputs": [],
   "source": [
    "# Use the first dataset (istanbul_q1) for model training\n",
    "df_clean = df_istanbul_q1\n",
    "\n",
    "# Train-test split\n",
    "X = df_clean.drop(columns=[\"price\"])\n",
    "y = df_clean[\"price\"].fillna(df_clean[\"price\"].median())\n",
    "\n",
    "X_train, X_test, y_train, y_test = train_test_split(X, y, test_size=0.2, random_state=42)\n",
    "\n"
   ]
  },
  {
   "cell_type": "code",
   "execution_count": 8,
   "metadata": {},
   "outputs": [],
   "source": [
    "# Define preprocessing for numerical and categorical features\n",
    "numeric_features = [\"minimum_nights\", \"number_of_reviews\", \"reviews_per_month\", \n",
    "                    \"calculated_host_listings_count\", \"availability_365\", \"number_of_reviews_ltm\", \n",
    "                    \"days_since_last_review\"]\n",
    "categorical_features = [\"room_type\", \"neighbourhood\"]\n",
    "\n",
    "numeric_transformer = Pipeline([\n",
    "    ('imputer', SimpleImputer(strategy='median')),\n",
    "    ('scaler', StandardScaler())\n",
    "])\n",
    "\n",
    "categorical_transformer = Pipeline([\n",
    "    ('imputer', SimpleImputer(strategy='most_frequent')),\n",
    "    ('encoder', OneHotEncoder(handle_unknown='ignore', sparse_output=False))\n",
    "])\n",
    "\n",
    "preprocessor = ColumnTransformer([\n",
    "    ('num', numeric_transformer, numeric_features),\n",
    "    ('cat', categorical_transformer, categorical_features)\n",
    "])\n"
   ]
  },
  {
   "cell_type": "code",
   "execution_count": 9,
   "metadata": {},
   "outputs": [],
   "source": [
    "\n",
    "# Define models\n",
    "models = {\n",
    "    \"OLS\": Pipeline([\n",
    "        ('preprocessor', preprocessor),\n",
    "        ('model', LinearRegression())\n",
    "    ]),\n",
    "    \"LASSO\": Pipeline([\n",
    "        ('preprocessor', preprocessor),\n",
    "        ('model', Lasso(alpha=0.1))\n",
    "    ]),\n",
    "    \"RandomForest\": Pipeline([\n",
    "        ('preprocessor', preprocessor),\n",
    "        ('model', RandomForestRegressor(n_estimators=100, random_state=42))\n",
    "    ]),\n",
    "    \"GradientBoosting\": Pipeline([\n",
    "        ('preprocessor', preprocessor),\n",
    "        ('model', GradientBoostingRegressor(n_estimators=100, random_state=42))\n",
    "    ]),\n",
    "    \"XGBoost\": Pipeline([\n",
    "        ('preprocessor', preprocessor),\n",
    "        ('model', XGBRegressor(n_estimators=100, random_state=42))\n",
    "    ])\n",
    "}"
   ]
  },
  {
   "cell_type": "code",
   "execution_count": 10,
   "metadata": {},
   "outputs": [],
   "source": [
    "\n",
    "# Train and evaluate models\n",
    "results = {}\n",
    "for name, model in models.items():\n",
    "    start_time = time.time()\n",
    "    model.fit(X_train, y_train)\n",
    "    end_time = time.time()\n",
    "    \n",
    "    y_pred = model.predict(X_test)\n",
    "    \n",
    "    results[name] = {\n",
    "        \"RMSE\": np.sqrt(mean_squared_error(y_test, y_pred)),\n",
    "        \"R2\": r2_score(y_test, y_pred),\n",
    "        \"Time (seconds)\": round(end_time - start_time, 2)\n",
    "    }"
   ]
  },
  {
   "cell_type": "code",
   "execution_count": 11,
   "metadata": {},
   "outputs": [
    {
     "name": "stdout",
     "output_type": "stream",
     "text": [
      "                          RMSE        R2  Time (seconds)\n",
      "OLS                9269.794662 -0.055385            0.30\n",
      "LASSO              9269.285453 -0.055269            1.15\n",
      "RandomForest      13806.130247 -1.341071           18.84\n",
      "GradientBoosting  16178.941117 -2.214925            3.93\n",
      "XGBoost           10598.832487 -0.379707            0.32\n"
     ]
    }
   ],
   "source": [
    "# Compare models\n",
    "results_df = pd.DataFrame(results).T\n",
    "print(results_df)"
   ]
  },
  {
   "cell_type": "code",
   "execution_count": 12,
   "metadata": {},
   "outputs": [
    {
     "data": {
      "image/png": "[encoded data removed]",
      "text/plain": [
       "<Figure size 1000x600 with 1 Axes>"
      ]
     },
     "metadata": {},
     "output_type": "display_data"
    }
   ],
   "source": [
    "# Feature importance comparison\n",
    "def compare_feature_importances(models, X):\n",
    "    encoded_cat_features = models[\"RandomForest\"].named_steps[\"preprocessor\"].named_transformers_[\"cat\"].named_steps[\"encoder\"].get_feature_names_out(categorical_features)\n",
    "    all_feature_names = np.concatenate([numeric_features, encoded_cat_features])\n",
    "\n",
    "    rf_importance = models[\"RandomForest\"].named_steps['model'].feature_importances_\n",
    "    gb_importance = models[\"GradientBoosting\"].named_steps['model'].feature_importances_\n",
    "\n",
    "    feature_importances = pd.DataFrame({\n",
    "        'Feature': all_feature_names,\n",
    "        'RandomForest': rf_importance,\n",
    "        'GradientBoosting': gb_importance\n",
    "    })\n",
    "\n",
    "    feature_importances.set_index(\"Feature\", inplace=True)\n",
    "    feature_importances.nlargest(10, columns=['RandomForest', 'GradientBoosting']).plot(kind='barh', figsize=(10,6))\n",
    "    plt.title(\"Top 10 Feature Importances (RandomForest vs GradientBoosting)\")\n",
    "    plt.show()\n",
    "\n",
    "compare_feature_importances(models, X_train)"
   ]
  },
  {
   "cell_type": "code",
   "execution_count": 14,
   "metadata": {},
   "outputs": [
    {
     "name": "stdout",
     "output_type": "stream",
     "text": [
      "\n",
      "📊 Results for Istanbul Q3:\n",
      "                          RMSE        R2\n",
      "OLS               27340.423663 -0.008605\n",
      "LASSO             27340.278803 -0.008594\n",
      "RandomForest      33086.481663 -0.477106\n",
      "GradientBoosting  29221.230547 -0.152146\n",
      "XGBoost           45685.688495 -1.816247\n",
      "\n",
      "📊 Results for Athens:\n",
      "                         RMSE          R2\n",
      "OLS               2801.258032  -88.039133\n",
      "LASSO             2452.513371  -67.249183\n",
      "RandomForest      4488.297768 -227.579887\n",
      "GradientBoosting  3427.787601 -132.322208\n",
      "XGBoost           4788.831749 -259.215911\n"
     ]
    }
   ],
   "source": [
    "# Preprocess validation datasets\n",
    "df_istanbul_q3 = preprocess_data(istanbul_q3)  # Later quarter\n",
    "df_athens = preprocess_data(athens)            # Another city\n",
    "\n",
    "# Apply trained models to new datasets\n",
    "for df, name in zip([df_istanbul_q3, df_athens], [\"Istanbul Q3\", \"Athens\"]):\n",
    "    X_new = df.drop(columns=[\"price\"])\n",
    "    y_new = df[\"price\"].fillna(df[\"price\"].median())  # Ensure no missing values\n",
    "\n",
    "    results_new = {}\n",
    "    for model_name, model in models.items():\n",
    "        y_pred_new = model.predict(X_new)\n",
    "        results_new[model_name] = {\n",
    "            \"RMSE\": np.sqrt(mean_squared_error(y_new, y_pred_new)),\n",
    "            \"R2\": r2_score(y_new, y_pred_new)\n",
    "        }\n",
    "\n",
    "    print(f\"\\n📊 Results for {name}:\")\n",
    "    print(pd.DataFrame(results_new).T)\n"
   ]
  },
  {
   "cell_type": "code",
   "execution_count": null,
   "metadata": {},
   "outputs": [],
   "source": []
  }
 ],
 "metadata": {
  "kernelspec": {
   "display_name": "my_env",
   "language": "python",
   "name": "python3"
  },
  "language_info": {
   "codemirror_mode": {
    "name": "ipython",
    "version": 3
   },
   "file_extension": ".py",
   "mimetype": "text/x-python",
   "name": "python",
   "nbconvert_exporter": "python",
   "pygments_lexer": "ipython3",
   "version": "3.13.2"
  }
 },
 "nbformat": 4,
 "nbformat_minor": 2
}
